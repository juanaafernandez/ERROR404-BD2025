{
  "nbformat": 4,
  "nbformat_minor": 0,
  "metadata": {
    "colab": {
      "provenance": []
    },
    "kernelspec": {
      "name": "python3",
      "display_name": "Python 3"
    },
    "language_info": {
      "name": "python"
    }
  },
  "cells": [
    {
      "cell_type": "markdown",
      "metadata": {
        "id": "cI2oLEoSbIYs"
      },
      "source": [
        "#Big Data\n",
        "Estructuras de control y funciones clásicas"
      ]
    },
    {
      "cell_type": "markdown",
      "metadata": {
        "id": "J3Ep-qUGdjVB"
      },
      "source": [
        "### 1) Nuestro amigo el **IF**"
      ]
    },
    {
      "cell_type": "code",
      "metadata": {
        "id": "1LySJL4YbPIe",
        "colab": {
          "base_uri": "https://localhost:8080/"
        },
        "outputId": "9946534f-0e54-4647-9aed-0df695cffe42"
      },
      "source": [
        "nro_de_cliente=999\n",
        "\n",
        "if nro_de_cliente==999:\n",
        "  print('es el cliente 999!!')\n",
        "else:\n",
        "  print('cliente no encontrado :(')"
      ],
      "execution_count": 1,
      "outputs": [
        {
          "output_type": "stream",
          "name": "stdout",
          "text": [
            "es el cliente 999!!\n"
          ]
        }
      ]
    },
    {
      "cell_type": "code",
      "metadata": {
        "id": "67gC1BqWgaQ8"
      },
      "source": [
        "nro_de_cliente=999"
      ],
      "execution_count": 2,
      "outputs": []
    },
    {
      "cell_type": "code",
      "metadata": {
        "id": "yyMPrDjAezyW",
        "colab": {
          "base_uri": "https://localhost:8080/"
        },
        "outputId": "614be14d-2510-4eea-d413-97a104fe84a2"
      },
      "source": [
        "# if anidado\n",
        "if nro_de_cliente==999:\n",
        "  print('es el cliente 999!!')\n",
        "elif nro_de_cliente==111:\n",
        "  print('es el cliente 111!!')\n",
        "else:\n",
        "  print('cliente no encontrado :(')"
      ],
      "execution_count": 3,
      "outputs": [
        {
          "output_type": "stream",
          "name": "stdout",
          "text": [
            "es el cliente 999!!\n"
          ]
        }
      ]
    },
    {
      "cell_type": "markdown",
      "metadata": {
        "id": "xajuQeX8hBOH"
      },
      "source": [
        "Igual: x1 == x2\n",
        "\n",
        "Distinto: x1 != x2\n",
        "\n",
        "Menor a: x1 < x2\n",
        "\n",
        "Menor o igual a: x1 <= x2\n",
        "\n",
        "Mayor a: x1 > x2\n",
        "\n",
        "Mayor o igual x1 >= x2\n",
        "\n"
      ]
    },
    {
      "cell_type": "markdown",
      "metadata": {
        "id": "9YMSatf7GdTg"
      },
      "source": [
        "### 2) *Mientras* vemos el `while`"
      ]
    },
    {
      "cell_type": "code",
      "metadata": {
        "id": "QVSbcls-fU0Q",
        "colab": {
          "base_uri": "https://localhost:8080/"
        },
        "outputId": "0b0faefd-0fe9-4042-b0b4-aff841f1847e"
      },
      "source": [
        "# imprimir 3 elementos\n",
        "i=0\n",
        "\n",
        "while(i<6):\n",
        "  i=i+1\n",
        "  print(i)"
      ],
      "execution_count": 4,
      "outputs": [
        {
          "output_type": "stream",
          "name": "stdout",
          "text": [
            "1\n",
            "2\n",
            "3\n",
            "4\n",
            "5\n",
            "6\n"
          ]
        }
      ]
    },
    {
      "cell_type": "code",
      "metadata": {
        "id": "xHKV5FmfQuIL",
        "colab": {
          "base_uri": "https://localhost:8080/"
        },
        "outputId": "2320e205-179f-42a8-fbc4-ba9acd710b7d"
      },
      "source": [
        "# bucle infinito\n",
        "while(1):\n",
        "  x1=input('¿Nombre? ')\n",
        "\n",
        "  if x1=='me aburri':\n",
        "    break\n",
        "\n",
        "  print('Bienvenido! ' + x1)\n"
      ],
      "execution_count": 71,
      "outputs": [
        {
          "name": "stdout",
          "output_type": "stream",
          "text": [
            "¿Nombre? juana\n",
            "Bienvenido! juana\n",
            "¿Nombre? me aburri\n"
          ]
        }
      ]
    },
    {
      "cell_type": "markdown",
      "metadata": {
        "id": "bSL5eukOGqWt"
      },
      "source": [
        "### 3) *Para* que usar while, si hay `for`!"
      ]
    },
    {
      "cell_type": "code",
      "metadata": {
        "id": "HU0HEgXxG0YX"
      },
      "source": [
        "lista=[1,2,3,4,5,6]"
      ],
      "execution_count": 7,
      "outputs": []
    },
    {
      "cell_type": "code",
      "metadata": {
        "id": "vawmdM8uU-dH",
        "colab": {
          "base_uri": "https://localhost:8080/"
        },
        "outputId": "dce0eaa8-a58b-401b-c864-32591ed5d8ba"
      },
      "source": [
        "for i in lista:\n",
        "\n",
        "  if i == 5:\n",
        "    break\n",
        "\n",
        "  print(i)"
      ],
      "execution_count": 8,
      "outputs": [
        {
          "output_type": "stream",
          "name": "stdout",
          "text": [
            "1\n",
            "2\n",
            "3\n",
            "4\n"
          ]
        }
      ]
    },
    {
      "cell_type": "markdown",
      "metadata": {
        "id": "nL1rI-ECZ0ny"
      },
      "source": [
        "¿Cómo usar for sobre pandas data frame?"
      ]
    },
    {
      "cell_type": "code",
      "metadata": {
        "id": "tIs6PtDOVt2v",
        "colab": {
          "base_uri": "https://localhost:8080/",
          "height": 206
        },
        "outputId": "e74a9243-2c54-4972-e5cc-06a04a7d4233"
      },
      "source": [
        "import pandas as pd\n",
        "\n",
        "d_star_wars=pd.read_csv(filepath_or_buffer=\"https://raw.githubusercontent.com/fpineyro/homework-0/master/starwars.csv\", sep=',')\n",
        "d_star_wars.head()"
      ],
      "execution_count": 9,
      "outputs": [
        {
          "output_type": "execute_result",
          "data": {
            "text/plain": [
              "             name  height mass hair_color   skin_color eye_color birth_year  \\\n",
              "0  Luke Skywalker   172.0   77      blond         fair      blue      19BBY   \n",
              "1           C-3PO   167.0   75        NaN         gold    yellow     112BBY   \n",
              "2           R2-D2    96.0   32        NaN  white, blue       red      33BBY   \n",
              "3     Darth Vader   202.0  136       none        white    yellow    41.9BBY   \n",
              "4     Leia Organa   150.0   49      brown        light     brown      19BBY   \n",
              "\n",
              "   gender homeworld species  \n",
              "0    male  Tatooine   Human  \n",
              "1     NaN  Tatooine   Droid  \n",
              "2     NaN     Naboo   Droid  \n",
              "3    male  Tatooine   Human  \n",
              "4  female  Alderaan   Human  "
            ],
            "text/html": [
              "\n",
              "  <div id=\"df-308b2202-55a8-48d6-a81f-5b050165c52f\" class=\"colab-df-container\">\n",
              "    <div>\n",
              "<style scoped>\n",
              "    .dataframe tbody tr th:only-of-type {\n",
              "        vertical-align: middle;\n",
              "    }\n",
              "\n",
              "    .dataframe tbody tr th {\n",
              "        vertical-align: top;\n",
              "    }\n",
              "\n",
              "    .dataframe thead th {\n",
              "        text-align: right;\n",
              "    }\n",
              "</style>\n",
              "<table border=\"1\" class=\"dataframe\">\n",
              "  <thead>\n",
              "    <tr style=\"text-align: right;\">\n",
              "      <th></th>\n",
              "      <th>name</th>\n",
              "      <th>height</th>\n",
              "      <th>mass</th>\n",
              "      <th>hair_color</th>\n",
              "      <th>skin_color</th>\n",
              "      <th>eye_color</th>\n",
              "      <th>birth_year</th>\n",
              "      <th>gender</th>\n",
              "      <th>homeworld</th>\n",
              "      <th>species</th>\n",
              "    </tr>\n",
              "  </thead>\n",
              "  <tbody>\n",
              "    <tr>\n",
              "      <th>0</th>\n",
              "      <td>Luke Skywalker</td>\n",
              "      <td>172.0</td>\n",
              "      <td>77</td>\n",
              "      <td>blond</td>\n",
              "      <td>fair</td>\n",
              "      <td>blue</td>\n",
              "      <td>19BBY</td>\n",
              "      <td>male</td>\n",
              "      <td>Tatooine</td>\n",
              "      <td>Human</td>\n",
              "    </tr>\n",
              "    <tr>\n",
              "      <th>1</th>\n",
              "      <td>C-3PO</td>\n",
              "      <td>167.0</td>\n",
              "      <td>75</td>\n",
              "      <td>NaN</td>\n",
              "      <td>gold</td>\n",
              "      <td>yellow</td>\n",
              "      <td>112BBY</td>\n",
              "      <td>NaN</td>\n",
              "      <td>Tatooine</td>\n",
              "      <td>Droid</td>\n",
              "    </tr>\n",
              "    <tr>\n",
              "      <th>2</th>\n",
              "      <td>R2-D2</td>\n",
              "      <td>96.0</td>\n",
              "      <td>32</td>\n",
              "      <td>NaN</td>\n",
              "      <td>white, blue</td>\n",
              "      <td>red</td>\n",
              "      <td>33BBY</td>\n",
              "      <td>NaN</td>\n",
              "      <td>Naboo</td>\n",
              "      <td>Droid</td>\n",
              "    </tr>\n",
              "    <tr>\n",
              "      <th>3</th>\n",
              "      <td>Darth Vader</td>\n",
              "      <td>202.0</td>\n",
              "      <td>136</td>\n",
              "      <td>none</td>\n",
              "      <td>white</td>\n",
              "      <td>yellow</td>\n",
              "      <td>41.9BBY</td>\n",
              "      <td>male</td>\n",
              "      <td>Tatooine</td>\n",
              "      <td>Human</td>\n",
              "    </tr>\n",
              "    <tr>\n",
              "      <th>4</th>\n",
              "      <td>Leia Organa</td>\n",
              "      <td>150.0</td>\n",
              "      <td>49</td>\n",
              "      <td>brown</td>\n",
              "      <td>light</td>\n",
              "      <td>brown</td>\n",
              "      <td>19BBY</td>\n",
              "      <td>female</td>\n",
              "      <td>Alderaan</td>\n",
              "      <td>Human</td>\n",
              "    </tr>\n",
              "  </tbody>\n",
              "</table>\n",
              "</div>\n",
              "    <div class=\"colab-df-buttons\">\n",
              "\n",
              "  <div class=\"colab-df-container\">\n",
              "    <button class=\"colab-df-convert\" onclick=\"convertToInteractive('df-308b2202-55a8-48d6-a81f-5b050165c52f')\"\n",
              "            title=\"Convert this dataframe to an interactive table.\"\n",
              "            style=\"display:none;\">\n",
              "\n",
              "  <svg xmlns=\"http://www.w3.org/2000/svg\" height=\"24px\" viewBox=\"0 -960 960 960\">\n",
              "    <path d=\"M120-120v-720h720v720H120Zm60-500h600v-160H180v160Zm220 220h160v-160H400v160Zm0 220h160v-160H400v160ZM180-400h160v-160H180v160Zm440 0h160v-160H620v160ZM180-180h160v-160H180v160Zm440 0h160v-160H620v160Z\"/>\n",
              "  </svg>\n",
              "    </button>\n",
              "\n",
              "  <style>\n",
              "    .colab-df-container {\n",
              "      display:flex;\n",
              "      gap: 12px;\n",
              "    }\n",
              "\n",
              "    .colab-df-convert {\n",
              "      background-color: #E8F0FE;\n",
              "      border: none;\n",
              "      border-radius: 50%;\n",
              "      cursor: pointer;\n",
              "      display: none;\n",
              "      fill: #1967D2;\n",
              "      height: 32px;\n",
              "      padding: 0 0 0 0;\n",
              "      width: 32px;\n",
              "    }\n",
              "\n",
              "    .colab-df-convert:hover {\n",
              "      background-color: #E2EBFA;\n",
              "      box-shadow: 0px 1px 2px rgba(60, 64, 67, 0.3), 0px 1px 3px 1px rgba(60, 64, 67, 0.15);\n",
              "      fill: #174EA6;\n",
              "    }\n",
              "\n",
              "    .colab-df-buttons div {\n",
              "      margin-bottom: 4px;\n",
              "    }\n",
              "\n",
              "    [theme=dark] .colab-df-convert {\n",
              "      background-color: #3B4455;\n",
              "      fill: #D2E3FC;\n",
              "    }\n",
              "\n",
              "    [theme=dark] .colab-df-convert:hover {\n",
              "      background-color: #434B5C;\n",
              "      box-shadow: 0px 1px 3px 1px rgba(0, 0, 0, 0.15);\n",
              "      filter: drop-shadow(0px 1px 2px rgba(0, 0, 0, 0.3));\n",
              "      fill: #FFFFFF;\n",
              "    }\n",
              "  </style>\n",
              "\n",
              "    <script>\n",
              "      const buttonEl =\n",
              "        document.querySelector('#df-308b2202-55a8-48d6-a81f-5b050165c52f button.colab-df-convert');\n",
              "      buttonEl.style.display =\n",
              "        google.colab.kernel.accessAllowed ? 'block' : 'none';\n",
              "\n",
              "      async function convertToInteractive(key) {\n",
              "        const element = document.querySelector('#df-308b2202-55a8-48d6-a81f-5b050165c52f');\n",
              "        const dataTable =\n",
              "          await google.colab.kernel.invokeFunction('convertToInteractive',\n",
              "                                                    [key], {});\n",
              "        if (!dataTable) return;\n",
              "\n",
              "        const docLinkHtml = 'Like what you see? Visit the ' +\n",
              "          '<a target=\"_blank\" href=https://colab.research.google.com/notebooks/data_table.ipynb>data table notebook</a>'\n",
              "          + ' to learn more about interactive tables.';\n",
              "        element.innerHTML = '';\n",
              "        dataTable['output_type'] = 'display_data';\n",
              "        await google.colab.output.renderOutput(dataTable, element);\n",
              "        const docLink = document.createElement('div');\n",
              "        docLink.innerHTML = docLinkHtml;\n",
              "        element.appendChild(docLink);\n",
              "      }\n",
              "    </script>\n",
              "  </div>\n",
              "\n",
              "\n",
              "<div id=\"df-7f929159-ab0c-4b39-9dc2-b7da192b611b\">\n",
              "  <button class=\"colab-df-quickchart\" onclick=\"quickchart('df-7f929159-ab0c-4b39-9dc2-b7da192b611b')\"\n",
              "            title=\"Suggest charts\"\n",
              "            style=\"display:none;\">\n",
              "\n",
              "<svg xmlns=\"http://www.w3.org/2000/svg\" height=\"24px\"viewBox=\"0 0 24 24\"\n",
              "     width=\"24px\">\n",
              "    <g>\n",
              "        <path d=\"M19 3H5c-1.1 0-2 .9-2 2v14c0 1.1.9 2 2 2h14c1.1 0 2-.9 2-2V5c0-1.1-.9-2-2-2zM9 17H7v-7h2v7zm4 0h-2V7h2v10zm4 0h-2v-4h2v4z\"/>\n",
              "    </g>\n",
              "</svg>\n",
              "  </button>\n",
              "\n",
              "<style>\n",
              "  .colab-df-quickchart {\n",
              "      --bg-color: #E8F0FE;\n",
              "      --fill-color: #1967D2;\n",
              "      --hover-bg-color: #E2EBFA;\n",
              "      --hover-fill-color: #174EA6;\n",
              "      --disabled-fill-color: #AAA;\n",
              "      --disabled-bg-color: #DDD;\n",
              "  }\n",
              "\n",
              "  [theme=dark] .colab-df-quickchart {\n",
              "      --bg-color: #3B4455;\n",
              "      --fill-color: #D2E3FC;\n",
              "      --hover-bg-color: #434B5C;\n",
              "      --hover-fill-color: #FFFFFF;\n",
              "      --disabled-bg-color: #3B4455;\n",
              "      --disabled-fill-color: #666;\n",
              "  }\n",
              "\n",
              "  .colab-df-quickchart {\n",
              "    background-color: var(--bg-color);\n",
              "    border: none;\n",
              "    border-radius: 50%;\n",
              "    cursor: pointer;\n",
              "    display: none;\n",
              "    fill: var(--fill-color);\n",
              "    height: 32px;\n",
              "    padding: 0;\n",
              "    width: 32px;\n",
              "  }\n",
              "\n",
              "  .colab-df-quickchart:hover {\n",
              "    background-color: var(--hover-bg-color);\n",
              "    box-shadow: 0 1px 2px rgba(60, 64, 67, 0.3), 0 1px 3px 1px rgba(60, 64, 67, 0.15);\n",
              "    fill: var(--button-hover-fill-color);\n",
              "  }\n",
              "\n",
              "  .colab-df-quickchart-complete:disabled,\n",
              "  .colab-df-quickchart-complete:disabled:hover {\n",
              "    background-color: var(--disabled-bg-color);\n",
              "    fill: var(--disabled-fill-color);\n",
              "    box-shadow: none;\n",
              "  }\n",
              "\n",
              "  .colab-df-spinner {\n",
              "    border: 2px solid var(--fill-color);\n",
              "    border-color: transparent;\n",
              "    border-bottom-color: var(--fill-color);\n",
              "    animation:\n",
              "      spin 1s steps(1) infinite;\n",
              "  }\n",
              "\n",
              "  @keyframes spin {\n",
              "    0% {\n",
              "      border-color: transparent;\n",
              "      border-bottom-color: var(--fill-color);\n",
              "      border-left-color: var(--fill-color);\n",
              "    }\n",
              "    20% {\n",
              "      border-color: transparent;\n",
              "      border-left-color: var(--fill-color);\n",
              "      border-top-color: var(--fill-color);\n",
              "    }\n",
              "    30% {\n",
              "      border-color: transparent;\n",
              "      border-left-color: var(--fill-color);\n",
              "      border-top-color: var(--fill-color);\n",
              "      border-right-color: var(--fill-color);\n",
              "    }\n",
              "    40% {\n",
              "      border-color: transparent;\n",
              "      border-right-color: var(--fill-color);\n",
              "      border-top-color: var(--fill-color);\n",
              "    }\n",
              "    60% {\n",
              "      border-color: transparent;\n",
              "      border-right-color: var(--fill-color);\n",
              "    }\n",
              "    80% {\n",
              "      border-color: transparent;\n",
              "      border-right-color: var(--fill-color);\n",
              "      border-bottom-color: var(--fill-color);\n",
              "    }\n",
              "    90% {\n",
              "      border-color: transparent;\n",
              "      border-bottom-color: var(--fill-color);\n",
              "    }\n",
              "  }\n",
              "</style>\n",
              "\n",
              "  <script>\n",
              "    async function quickchart(key) {\n",
              "      const quickchartButtonEl =\n",
              "        document.querySelector('#' + key + ' button');\n",
              "      quickchartButtonEl.disabled = true;  // To prevent multiple clicks.\n",
              "      quickchartButtonEl.classList.add('colab-df-spinner');\n",
              "      try {\n",
              "        const charts = await google.colab.kernel.invokeFunction(\n",
              "            'suggestCharts', [key], {});\n",
              "      } catch (error) {\n",
              "        console.error('Error during call to suggestCharts:', error);\n",
              "      }\n",
              "      quickchartButtonEl.classList.remove('colab-df-spinner');\n",
              "      quickchartButtonEl.classList.add('colab-df-quickchart-complete');\n",
              "    }\n",
              "    (() => {\n",
              "      let quickchartButtonEl =\n",
              "        document.querySelector('#df-7f929159-ab0c-4b39-9dc2-b7da192b611b button');\n",
              "      quickchartButtonEl.style.display =\n",
              "        google.colab.kernel.accessAllowed ? 'block' : 'none';\n",
              "    })();\n",
              "  </script>\n",
              "</div>\n",
              "\n",
              "    </div>\n",
              "  </div>\n"
            ],
            "application/vnd.google.colaboratory.intrinsic+json": {
              "type": "dataframe",
              "variable_name": "d_star_wars",
              "summary": "{\n  \"name\": \"d_star_wars\",\n  \"rows\": 87,\n  \"fields\": [\n    {\n      \"column\": \"name\",\n      \"properties\": {\n        \"dtype\": \"string\",\n        \"num_unique_values\": 87,\n        \"samples\": [\n          \"Grievous\",\n          \"Luke Skywalker\",\n          \"Mon Mothma\"\n        ],\n        \"semantic_type\": \"\",\n        \"description\": \"\"\n      }\n    },\n    {\n      \"column\": \"height\",\n      \"properties\": {\n        \"dtype\": \"number\",\n        \"std\": 34.770428758492216,\n        \"min\": 66.0,\n        \"max\": 264.0,\n        \"num_unique_values\": 45,\n        \"samples\": [\n          168.0,\n          224.0,\n          206.0\n        ],\n        \"semantic_type\": \"\",\n        \"description\": \"\"\n      }\n    },\n    {\n      \"column\": \"mass\",\n      \"properties\": {\n        \"dtype\": \"category\",\n        \"num_unique_values\": 38,\n        \"samples\": [\n          \"88\",\n          \"57\",\n          \"49\"\n        ],\n        \"semantic_type\": \"\",\n        \"description\": \"\"\n      }\n    },\n    {\n      \"column\": \"hair_color\",\n      \"properties\": {\n        \"dtype\": \"category\",\n        \"num_unique_values\": 11,\n        \"samples\": [\n          \"auburn, white\",\n          \"blond\",\n          \"auburn\"\n        ],\n        \"semantic_type\": \"\",\n        \"description\": \"\"\n      }\n    },\n    {\n      \"column\": \"skin_color\",\n      \"properties\": {\n        \"dtype\": \"category\",\n        \"num_unique_values\": 30,\n        \"samples\": [\n          \"red, blue, white\",\n          \"orange\",\n          \"fair, green, yellow\"\n        ],\n        \"semantic_type\": \"\",\n        \"description\": \"\"\n      }\n    },\n    {\n      \"column\": \"eye_color\",\n      \"properties\": {\n        \"dtype\": \"category\",\n        \"num_unique_values\": 14,\n        \"samples\": [\n          \"red, blue\",\n          \"green, yellow\",\n          \"blue\"\n        ],\n        \"semantic_type\": \"\",\n        \"description\": \"\"\n      }\n    },\n    {\n      \"column\": \"birth_year\",\n      \"properties\": {\n        \"dtype\": \"category\",\n        \"num_unique_values\": 36,\n        \"samples\": [\n          \"46BBY\",\n          \"21BBY\",\n          \"62BBY\"\n        ],\n        \"semantic_type\": \"\",\n        \"description\": \"\"\n      }\n    },\n    {\n      \"column\": \"gender\",\n      \"properties\": {\n        \"dtype\": \"category\",\n        \"num_unique_values\": 4,\n        \"samples\": [\n          \"female\",\n          \"none\",\n          \"male\"\n        ],\n        \"semantic_type\": \"\",\n        \"description\": \"\"\n      }\n    },\n    {\n      \"column\": \"homeworld\",\n      \"properties\": {\n        \"dtype\": \"string\",\n        \"num_unique_values\": 48,\n        \"samples\": [\n          \"Haruun Kal\",\n          \"Ojom\",\n          \"Tund\"\n        ],\n        \"semantic_type\": \"\",\n        \"description\": \"\"\n      }\n    },\n    {\n      \"column\": \"species\",\n      \"properties\": {\n        \"dtype\": \"category\",\n        \"num_unique_values\": 37,\n        \"samples\": [\n          \"Xexto\",\n          \"Dug\",\n          \"Hutt\"\n        ],\n        \"semantic_type\": \"\",\n        \"description\": \"\"\n      }\n    }\n  ]\n}"
            }
          },
          "metadata": {},
          "execution_count": 9
        }
      ]
    },
    {
      "cell_type": "code",
      "metadata": {
        "id": "wTZNFp3pYgIx",
        "colab": {
          "base_uri": "https://localhost:8080/"
        },
        "outputId": "50506502-5695-4d82-b693-11a08b8fe6cf"
      },
      "source": [
        "# no hacer así\n",
        "for row in d_star_wars:\n",
        "  print(row)\n",
        "\n"
      ],
      "execution_count": 10,
      "outputs": [
        {
          "output_type": "stream",
          "name": "stdout",
          "text": [
            "name\n",
            "height\n",
            "mass\n",
            "hair_color\n",
            "skin_color\n",
            "eye_color\n",
            "birth_year\n",
            "gender\n",
            "homeworld\n",
            "species\n"
          ]
        }
      ]
    },
    {
      "cell_type": "code",
      "metadata": {
        "id": "mJ7MF-pYZOn0",
        "colab": {
          "base_uri": "https://localhost:8080/"
        },
        "outputId": "4e13d54d-3d3c-4f57-ec37-c97fbffc4117"
      },
      "source": [
        "# Usar iterrows()\n",
        "\n",
        "for label, row in d_star_wars[:5].iterrows():\n",
        "  print('El label es: ' + str(label))\n",
        "  print(row)"
      ],
      "execution_count": 11,
      "outputs": [
        {
          "output_type": "stream",
          "name": "stdout",
          "text": [
            "El label es: 0\n",
            "name          Luke Skywalker\n",
            "height                 172.0\n",
            "mass                      77\n",
            "hair_color             blond\n",
            "skin_color              fair\n",
            "eye_color               blue\n",
            "birth_year             19BBY\n",
            "gender                  male\n",
            "homeworld           Tatooine\n",
            "species                Human\n",
            "Name: 0, dtype: object\n",
            "El label es: 1\n",
            "name             C-3PO\n",
            "height           167.0\n",
            "mass                75\n",
            "hair_color         NaN\n",
            "skin_color        gold\n",
            "eye_color       yellow\n",
            "birth_year      112BBY\n",
            "gender             NaN\n",
            "homeworld     Tatooine\n",
            "species          Droid\n",
            "Name: 1, dtype: object\n",
            "El label es: 2\n",
            "name                R2-D2\n",
            "height               96.0\n",
            "mass                   32\n",
            "hair_color            NaN\n",
            "skin_color    white, blue\n",
            "eye_color             red\n",
            "birth_year          33BBY\n",
            "gender                NaN\n",
            "homeworld           Naboo\n",
            "species             Droid\n",
            "Name: 2, dtype: object\n",
            "El label es: 3\n",
            "name          Darth Vader\n",
            "height              202.0\n",
            "mass                  136\n",
            "hair_color           none\n",
            "skin_color          white\n",
            "eye_color          yellow\n",
            "birth_year        41.9BBY\n",
            "gender               male\n",
            "homeworld        Tatooine\n",
            "species             Human\n",
            "Name: 3, dtype: object\n",
            "El label es: 4\n",
            "name          Leia Organa\n",
            "height              150.0\n",
            "mass                   49\n",
            "hair_color          brown\n",
            "skin_color          light\n",
            "eye_color           brown\n",
            "birth_year          19BBY\n",
            "gender             female\n",
            "homeworld        Alderaan\n",
            "species             Human\n",
            "Name: 4, dtype: object\n"
          ]
        }
      ]
    },
    {
      "cell_type": "markdown",
      "metadata": {
        "id": "1NfhynzId6GV"
      },
      "source": [
        "Accediendo a cada valor:"
      ]
    },
    {
      "cell_type": "code",
      "metadata": {
        "id": "_2lhjKIWbZ8a",
        "colab": {
          "base_uri": "https://localhost:8080/"
        },
        "outputId": "3e1b1afb-1472-4d4e-ba5e-8c7d9768abc7"
      },
      "source": [
        "for _, row in d_star_wars[:10].iterrows():\n",
        "  print('Personaje: ' + row['name'] + ' lugar ' + row['homeworld'])"
      ],
      "execution_count": 12,
      "outputs": [
        {
          "output_type": "stream",
          "name": "stdout",
          "text": [
            "Personaje: Luke Skywalker lugar Tatooine\n",
            "Personaje: C-3PO lugar Tatooine\n",
            "Personaje: R2-D2 lugar Naboo\n",
            "Personaje: Darth Vader lugar Tatooine\n",
            "Personaje: Leia Organa lugar Alderaan\n",
            "Personaje: Owen Lars lugar Tatooine\n",
            "Personaje: Beru Whitesun lars lugar Tatooine\n",
            "Personaje: R5-D4 lugar Tatooine\n",
            "Personaje: Biggs Darklighter lugar Tatooine\n",
            "Personaje: Obi-Wan Kenobi lugar Stewjon\n"
          ]
        }
      ]
    },
    {
      "cell_type": "markdown",
      "metadata": {
        "id": "YwD3bxuAHNMr"
      },
      "source": [
        "### 4) ¿Cómo crear funciones en Python?"
      ]
    },
    {
      "cell_type": "code",
      "metadata": {
        "id": "FWOLiXGWG7WW"
      },
      "source": [
        "def mi_funcion():\n",
        "  print('hola mundo')"
      ],
      "execution_count": 13,
      "outputs": []
    },
    {
      "cell_type": "code",
      "metadata": {
        "id": "zh6u37TAgMEi",
        "colab": {
          "base_uri": "https://localhost:8080/"
        },
        "outputId": "856e8ca4-7479-47f3-9e4f-fb54e7983022"
      },
      "source": [
        "mi_funcion()"
      ],
      "execution_count": 14,
      "outputs": [
        {
          "output_type": "stream",
          "name": "stdout",
          "text": [
            "hola mundo\n"
          ]
        }
      ]
    },
    {
      "cell_type": "markdown",
      "metadata": {
        "id": "3bTI57ZogYXR"
      },
      "source": [
        "¿Cómo crear una función con parámetros?"
      ]
    },
    {
      "cell_type": "code",
      "metadata": {
        "id": "yytTT0DbgOrv"
      },
      "source": [
        "def sumar(valor1, valor2):\n",
        "  return valor1 + valor2"
      ],
      "execution_count": 15,
      "outputs": []
    },
    {
      "cell_type": "code",
      "source": [
        "def restar(valor1, valor2):\n",
        "  return valor1 - valor2"
      ],
      "metadata": {
        "id": "abfN_WznglL4"
      },
      "execution_count": 16,
      "outputs": []
    },
    {
      "cell_type": "code",
      "metadata": {
        "id": "c2gtCG9LiL89",
        "colab": {
          "base_uri": "https://localhost:8080/"
        },
        "outputId": "744fc1f9-b34b-4481-9eeb-73ef37841d73"
      },
      "source": [
        "sumar(valor1 = 5, valor2= 5)"
      ],
      "execution_count": 17,
      "outputs": [
        {
          "output_type": "execute_result",
          "data": {
            "text/plain": [
              "10"
            ]
          },
          "metadata": {},
          "execution_count": 17
        }
      ]
    },
    {
      "cell_type": "code",
      "source": [
        "valor1 = 5\n",
        "valor2 = 5"
      ],
      "metadata": {
        "id": "bAYuSJqlgwrt"
      },
      "execution_count": 18,
      "outputs": []
    },
    {
      "cell_type": "code",
      "source": [
        "restar(valor1, valor2)"
      ],
      "metadata": {
        "id": "7SWw634lgqbp",
        "colab": {
          "base_uri": "https://localhost:8080/"
        },
        "outputId": "ad66f5de-4ed0-4205-c737-767f8a8b9a62"
      },
      "execution_count": 19,
      "outputs": [
        {
          "output_type": "execute_result",
          "data": {
            "text/plain": [
              "0"
            ]
          },
          "metadata": {},
          "execution_count": 19
        }
      ]
    },
    {
      "cell_type": "markdown",
      "metadata": {
        "id": "TFYnkSUyifyw"
      },
      "source": [
        "¿Cómo explorar el contenido de una función?"
      ]
    },
    {
      "cell_type": "code",
      "metadata": {
        "id": "79amaexLhSnT"
      },
      "source": [
        "%%capture\n",
        "!pip install funpymodeling"
      ],
      "execution_count": 20,
      "outputs": []
    },
    {
      "cell_type": "code",
      "metadata": {
        "id": "ML9ZMIp1hOlc"
      },
      "source": [
        "from funpymodeling.exploratory import status"
      ],
      "execution_count": 22,
      "outputs": []
    },
    {
      "cell_type": "code",
      "metadata": {
        "id": "tfBfa_3Dhjuk",
        "colab": {
          "base_uri": "https://localhost:8080/",
          "height": 363
        },
        "outputId": "faa097f0-c53a-4d44-cb6f-a98691f058c5"
      },
      "source": [
        "status(d_star_wars)"
      ],
      "execution_count": 23,
      "outputs": [
        {
          "output_type": "execute_result",
          "data": {
            "text/plain": [
              "     variable  q_nan     p_nan  q_zeros  p_zeros  unique     type\n",
              "0        name      0  0.000000        0      0.0      87   object\n",
              "1      height      6  0.068966        0      0.0      45  float64\n",
              "2        mass     28  0.321839        0      0.0      38   object\n",
              "3  hair_color      6  0.068966        0      0.0      11   object\n",
              "4  skin_color      2  0.022989        0      0.0      30   object\n",
              "5   eye_color      3  0.034483        0      0.0      14   object\n",
              "6  birth_year     44  0.505747        0      0.0      36   object\n",
              "7      gender      3  0.034483        0      0.0       4   object\n",
              "8   homeworld     10  0.114943        0      0.0      48   object\n",
              "9     species      5  0.057471        0      0.0      37   object"
            ],
            "text/html": [
              "\n",
              "  <div id=\"df-70db9175-7a28-4422-a8b4-802964f40dae\" class=\"colab-df-container\">\n",
              "    <div>\n",
              "<style scoped>\n",
              "    .dataframe tbody tr th:only-of-type {\n",
              "        vertical-align: middle;\n",
              "    }\n",
              "\n",
              "    .dataframe tbody tr th {\n",
              "        vertical-align: top;\n",
              "    }\n",
              "\n",
              "    .dataframe thead th {\n",
              "        text-align: right;\n",
              "    }\n",
              "</style>\n",
              "<table border=\"1\" class=\"dataframe\">\n",
              "  <thead>\n",
              "    <tr style=\"text-align: right;\">\n",
              "      <th></th>\n",
              "      <th>variable</th>\n",
              "      <th>q_nan</th>\n",
              "      <th>p_nan</th>\n",
              "      <th>q_zeros</th>\n",
              "      <th>p_zeros</th>\n",
              "      <th>unique</th>\n",
              "      <th>type</th>\n",
              "    </tr>\n",
              "  </thead>\n",
              "  <tbody>\n",
              "    <tr>\n",
              "      <th>0</th>\n",
              "      <td>name</td>\n",
              "      <td>0</td>\n",
              "      <td>0.000000</td>\n",
              "      <td>0</td>\n",
              "      <td>0.0</td>\n",
              "      <td>87</td>\n",
              "      <td>object</td>\n",
              "    </tr>\n",
              "    <tr>\n",
              "      <th>1</th>\n",
              "      <td>height</td>\n",
              "      <td>6</td>\n",
              "      <td>0.068966</td>\n",
              "      <td>0</td>\n",
              "      <td>0.0</td>\n",
              "      <td>45</td>\n",
              "      <td>float64</td>\n",
              "    </tr>\n",
              "    <tr>\n",
              "      <th>2</th>\n",
              "      <td>mass</td>\n",
              "      <td>28</td>\n",
              "      <td>0.321839</td>\n",
              "      <td>0</td>\n",
              "      <td>0.0</td>\n",
              "      <td>38</td>\n",
              "      <td>object</td>\n",
              "    </tr>\n",
              "    <tr>\n",
              "      <th>3</th>\n",
              "      <td>hair_color</td>\n",
              "      <td>6</td>\n",
              "      <td>0.068966</td>\n",
              "      <td>0</td>\n",
              "      <td>0.0</td>\n",
              "      <td>11</td>\n",
              "      <td>object</td>\n",
              "    </tr>\n",
              "    <tr>\n",
              "      <th>4</th>\n",
              "      <td>skin_color</td>\n",
              "      <td>2</td>\n",
              "      <td>0.022989</td>\n",
              "      <td>0</td>\n",
              "      <td>0.0</td>\n",
              "      <td>30</td>\n",
              "      <td>object</td>\n",
              "    </tr>\n",
              "    <tr>\n",
              "      <th>5</th>\n",
              "      <td>eye_color</td>\n",
              "      <td>3</td>\n",
              "      <td>0.034483</td>\n",
              "      <td>0</td>\n",
              "      <td>0.0</td>\n",
              "      <td>14</td>\n",
              "      <td>object</td>\n",
              "    </tr>\n",
              "    <tr>\n",
              "      <th>6</th>\n",
              "      <td>birth_year</td>\n",
              "      <td>44</td>\n",
              "      <td>0.505747</td>\n",
              "      <td>0</td>\n",
              "      <td>0.0</td>\n",
              "      <td>36</td>\n",
              "      <td>object</td>\n",
              "    </tr>\n",
              "    <tr>\n",
              "      <th>7</th>\n",
              "      <td>gender</td>\n",
              "      <td>3</td>\n",
              "      <td>0.034483</td>\n",
              "      <td>0</td>\n",
              "      <td>0.0</td>\n",
              "      <td>4</td>\n",
              "      <td>object</td>\n",
              "    </tr>\n",
              "    <tr>\n",
              "      <th>8</th>\n",
              "      <td>homeworld</td>\n",
              "      <td>10</td>\n",
              "      <td>0.114943</td>\n",
              "      <td>0</td>\n",
              "      <td>0.0</td>\n",
              "      <td>48</td>\n",
              "      <td>object</td>\n",
              "    </tr>\n",
              "    <tr>\n",
              "      <th>9</th>\n",
              "      <td>species</td>\n",
              "      <td>5</td>\n",
              "      <td>0.057471</td>\n",
              "      <td>0</td>\n",
              "      <td>0.0</td>\n",
              "      <td>37</td>\n",
              "      <td>object</td>\n",
              "    </tr>\n",
              "  </tbody>\n",
              "</table>\n",
              "</div>\n",
              "    <div class=\"colab-df-buttons\">\n",
              "\n",
              "  <div class=\"colab-df-container\">\n",
              "    <button class=\"colab-df-convert\" onclick=\"convertToInteractive('df-70db9175-7a28-4422-a8b4-802964f40dae')\"\n",
              "            title=\"Convert this dataframe to an interactive table.\"\n",
              "            style=\"display:none;\">\n",
              "\n",
              "  <svg xmlns=\"http://www.w3.org/2000/svg\" height=\"24px\" viewBox=\"0 -960 960 960\">\n",
              "    <path d=\"M120-120v-720h720v720H120Zm60-500h600v-160H180v160Zm220 220h160v-160H400v160Zm0 220h160v-160H400v160ZM180-400h160v-160H180v160Zm440 0h160v-160H620v160ZM180-180h160v-160H180v160Zm440 0h160v-160H620v160Z\"/>\n",
              "  </svg>\n",
              "    </button>\n",
              "\n",
              "  <style>\n",
              "    .colab-df-container {\n",
              "      display:flex;\n",
              "      gap: 12px;\n",
              "    }\n",
              "\n",
              "    .colab-df-convert {\n",
              "      background-color: #E8F0FE;\n",
              "      border: none;\n",
              "      border-radius: 50%;\n",
              "      cursor: pointer;\n",
              "      display: none;\n",
              "      fill: #1967D2;\n",
              "      height: 32px;\n",
              "      padding: 0 0 0 0;\n",
              "      width: 32px;\n",
              "    }\n",
              "\n",
              "    .colab-df-convert:hover {\n",
              "      background-color: #E2EBFA;\n",
              "      box-shadow: 0px 1px 2px rgba(60, 64, 67, 0.3), 0px 1px 3px 1px rgba(60, 64, 67, 0.15);\n",
              "      fill: #174EA6;\n",
              "    }\n",
              "\n",
              "    .colab-df-buttons div {\n",
              "      margin-bottom: 4px;\n",
              "    }\n",
              "\n",
              "    [theme=dark] .colab-df-convert {\n",
              "      background-color: #3B4455;\n",
              "      fill: #D2E3FC;\n",
              "    }\n",
              "\n",
              "    [theme=dark] .colab-df-convert:hover {\n",
              "      background-color: #434B5C;\n",
              "      box-shadow: 0px 1px 3px 1px rgba(0, 0, 0, 0.15);\n",
              "      filter: drop-shadow(0px 1px 2px rgba(0, 0, 0, 0.3));\n",
              "      fill: #FFFFFF;\n",
              "    }\n",
              "  </style>\n",
              "\n",
              "    <script>\n",
              "      const buttonEl =\n",
              "        document.querySelector('#df-70db9175-7a28-4422-a8b4-802964f40dae button.colab-df-convert');\n",
              "      buttonEl.style.display =\n",
              "        google.colab.kernel.accessAllowed ? 'block' : 'none';\n",
              "\n",
              "      async function convertToInteractive(key) {\n",
              "        const element = document.querySelector('#df-70db9175-7a28-4422-a8b4-802964f40dae');\n",
              "        const dataTable =\n",
              "          await google.colab.kernel.invokeFunction('convertToInteractive',\n",
              "                                                    [key], {});\n",
              "        if (!dataTable) return;\n",
              "\n",
              "        const docLinkHtml = 'Like what you see? Visit the ' +\n",
              "          '<a target=\"_blank\" href=https://colab.research.google.com/notebooks/data_table.ipynb>data table notebook</a>'\n",
              "          + ' to learn more about interactive tables.';\n",
              "        element.innerHTML = '';\n",
              "        dataTable['output_type'] = 'display_data';\n",
              "        await google.colab.output.renderOutput(dataTable, element);\n",
              "        const docLink = document.createElement('div');\n",
              "        docLink.innerHTML = docLinkHtml;\n",
              "        element.appendChild(docLink);\n",
              "      }\n",
              "    </script>\n",
              "  </div>\n",
              "\n",
              "\n",
              "<div id=\"df-35f5dc12-c39e-49cf-8255-78ea86018c0b\">\n",
              "  <button class=\"colab-df-quickchart\" onclick=\"quickchart('df-35f5dc12-c39e-49cf-8255-78ea86018c0b')\"\n",
              "            title=\"Suggest charts\"\n",
              "            style=\"display:none;\">\n",
              "\n",
              "<svg xmlns=\"http://www.w3.org/2000/svg\" height=\"24px\"viewBox=\"0 0 24 24\"\n",
              "     width=\"24px\">\n",
              "    <g>\n",
              "        <path d=\"M19 3H5c-1.1 0-2 .9-2 2v14c0 1.1.9 2 2 2h14c1.1 0 2-.9 2-2V5c0-1.1-.9-2-2-2zM9 17H7v-7h2v7zm4 0h-2V7h2v10zm4 0h-2v-4h2v4z\"/>\n",
              "    </g>\n",
              "</svg>\n",
              "  </button>\n",
              "\n",
              "<style>\n",
              "  .colab-df-quickchart {\n",
              "      --bg-color: #E8F0FE;\n",
              "      --fill-color: #1967D2;\n",
              "      --hover-bg-color: #E2EBFA;\n",
              "      --hover-fill-color: #174EA6;\n",
              "      --disabled-fill-color: #AAA;\n",
              "      --disabled-bg-color: #DDD;\n",
              "  }\n",
              "\n",
              "  [theme=dark] .colab-df-quickchart {\n",
              "      --bg-color: #3B4455;\n",
              "      --fill-color: #D2E3FC;\n",
              "      --hover-bg-color: #434B5C;\n",
              "      --hover-fill-color: #FFFFFF;\n",
              "      --disabled-bg-color: #3B4455;\n",
              "      --disabled-fill-color: #666;\n",
              "  }\n",
              "\n",
              "  .colab-df-quickchart {\n",
              "    background-color: var(--bg-color);\n",
              "    border: none;\n",
              "    border-radius: 50%;\n",
              "    cursor: pointer;\n",
              "    display: none;\n",
              "    fill: var(--fill-color);\n",
              "    height: 32px;\n",
              "    padding: 0;\n",
              "    width: 32px;\n",
              "  }\n",
              "\n",
              "  .colab-df-quickchart:hover {\n",
              "    background-color: var(--hover-bg-color);\n",
              "    box-shadow: 0 1px 2px rgba(60, 64, 67, 0.3), 0 1px 3px 1px rgba(60, 64, 67, 0.15);\n",
              "    fill: var(--button-hover-fill-color);\n",
              "  }\n",
              "\n",
              "  .colab-df-quickchart-complete:disabled,\n",
              "  .colab-df-quickchart-complete:disabled:hover {\n",
              "    background-color: var(--disabled-bg-color);\n",
              "    fill: var(--disabled-fill-color);\n",
              "    box-shadow: none;\n",
              "  }\n",
              "\n",
              "  .colab-df-spinner {\n",
              "    border: 2px solid var(--fill-color);\n",
              "    border-color: transparent;\n",
              "    border-bottom-color: var(--fill-color);\n",
              "    animation:\n",
              "      spin 1s steps(1) infinite;\n",
              "  }\n",
              "\n",
              "  @keyframes spin {\n",
              "    0% {\n",
              "      border-color: transparent;\n",
              "      border-bottom-color: var(--fill-color);\n",
              "      border-left-color: var(--fill-color);\n",
              "    }\n",
              "    20% {\n",
              "      border-color: transparent;\n",
              "      border-left-color: var(--fill-color);\n",
              "      border-top-color: var(--fill-color);\n",
              "    }\n",
              "    30% {\n",
              "      border-color: transparent;\n",
              "      border-left-color: var(--fill-color);\n",
              "      border-top-color: var(--fill-color);\n",
              "      border-right-color: var(--fill-color);\n",
              "    }\n",
              "    40% {\n",
              "      border-color: transparent;\n",
              "      border-right-color: var(--fill-color);\n",
              "      border-top-color: var(--fill-color);\n",
              "    }\n",
              "    60% {\n",
              "      border-color: transparent;\n",
              "      border-right-color: var(--fill-color);\n",
              "    }\n",
              "    80% {\n",
              "      border-color: transparent;\n",
              "      border-right-color: var(--fill-color);\n",
              "      border-bottom-color: var(--fill-color);\n",
              "    }\n",
              "    90% {\n",
              "      border-color: transparent;\n",
              "      border-bottom-color: var(--fill-color);\n",
              "    }\n",
              "  }\n",
              "</style>\n",
              "\n",
              "  <script>\n",
              "    async function quickchart(key) {\n",
              "      const quickchartButtonEl =\n",
              "        document.querySelector('#' + key + ' button');\n",
              "      quickchartButtonEl.disabled = true;  // To prevent multiple clicks.\n",
              "      quickchartButtonEl.classList.add('colab-df-spinner');\n",
              "      try {\n",
              "        const charts = await google.colab.kernel.invokeFunction(\n",
              "            'suggestCharts', [key], {});\n",
              "      } catch (error) {\n",
              "        console.error('Error during call to suggestCharts:', error);\n",
              "      }\n",
              "      quickchartButtonEl.classList.remove('colab-df-spinner');\n",
              "      quickchartButtonEl.classList.add('colab-df-quickchart-complete');\n",
              "    }\n",
              "    (() => {\n",
              "      let quickchartButtonEl =\n",
              "        document.querySelector('#df-35f5dc12-c39e-49cf-8255-78ea86018c0b button');\n",
              "      quickchartButtonEl.style.display =\n",
              "        google.colab.kernel.accessAllowed ? 'block' : 'none';\n",
              "    })();\n",
              "  </script>\n",
              "</div>\n",
              "\n",
              "    </div>\n",
              "  </div>\n"
            ],
            "application/vnd.google.colaboratory.intrinsic+json": {
              "type": "dataframe",
              "summary": "{\n  \"name\": \"status(d_star_wars)\",\n  \"rows\": 10,\n  \"fields\": [\n    {\n      \"column\": \"variable\",\n      \"properties\": {\n        \"dtype\": \"string\",\n        \"num_unique_values\": 10,\n        \"samples\": [\n          \"homeworld\",\n          \"height\",\n          \"eye_color\"\n        ],\n        \"semantic_type\": \"\",\n        \"description\": \"\"\n      }\n    },\n    {\n      \"column\": \"q_nan\",\n      \"properties\": {\n        \"dtype\": \"number\",\n        \"std\": 14,\n        \"min\": 0,\n        \"max\": 44,\n        \"num_unique_values\": 8,\n        \"samples\": [\n          6,\n          44,\n          0\n        ],\n        \"semantic_type\": \"\",\n        \"description\": \"\"\n      }\n    },\n    {\n      \"column\": \"p_nan\",\n      \"properties\": {\n        \"dtype\": \"number\",\n        \"std\": 0.16228665759791736,\n        \"min\": 0.0,\n        \"max\": 0.5057471264367817,\n        \"num_unique_values\": 8,\n        \"samples\": [\n          0.06896551724137931,\n          0.5057471264367817,\n          0.0\n        ],\n        \"semantic_type\": \"\",\n        \"description\": \"\"\n      }\n    },\n    {\n      \"column\": \"q_zeros\",\n      \"properties\": {\n        \"dtype\": \"number\",\n        \"std\": 0,\n        \"min\": 0,\n        \"max\": 0,\n        \"num_unique_values\": 1,\n        \"samples\": [\n          0\n        ],\n        \"semantic_type\": \"\",\n        \"description\": \"\"\n      }\n    },\n    {\n      \"column\": \"p_zeros\",\n      \"properties\": {\n        \"dtype\": \"number\",\n        \"std\": 0.0,\n        \"min\": 0.0,\n        \"max\": 0.0,\n        \"num_unique_values\": 1,\n        \"samples\": [\n          0.0\n        ],\n        \"semantic_type\": \"\",\n        \"description\": \"\"\n      }\n    },\n    {\n      \"column\": \"unique\",\n      \"properties\": {\n        \"dtype\": \"number\",\n        \"std\": 23,\n        \"min\": 4,\n        \"max\": 87,\n        \"num_unique_values\": 10,\n        \"samples\": [\n          48\n        ],\n        \"semantic_type\": \"\",\n        \"description\": \"\"\n      }\n    },\n    {\n      \"column\": \"type\",\n      \"properties\": {\n        \"dtype\": \"category\",\n        \"num_unique_values\": 2,\n        \"samples\": [\n          \"float64\"\n        ],\n        \"semantic_type\": \"\",\n        \"description\": \"\"\n      }\n    }\n  ]\n}"
            }
          },
          "metadata": {},
          "execution_count": 23
        }
      ]
    },
    {
      "cell_type": "code",
      "metadata": {
        "id": "W_QZcSykjzzU",
        "colab": {
          "base_uri": "https://localhost:8080/"
        },
        "outputId": "f404634d-7169-4cf4-85b8-6ad2eefb39a5"
      },
      "source": [
        "#calcula la cantidad de valores únicos presentes en cada columna del DataFrame.\n",
        "d_star_wars.nunique().values"
      ],
      "execution_count": 24,
      "outputs": [
        {
          "output_type": "execute_result",
          "data": {
            "text/plain": [
              "array([87, 45, 38, 11, 30, 14, 36,  4, 48, 37])"
            ]
          },
          "metadata": {},
          "execution_count": 24
        }
      ]
    },
    {
      "cell_type": "code",
      "metadata": {
        "id": "2sSjW66_lCgn",
        "colab": {
          "base_uri": "https://localhost:8080/"
        },
        "outputId": "f88b48f9-0671-4d05-bc9f-a6f03c4bcaa3"
      },
      "source": [
        "d_star_wars.columns"
      ],
      "execution_count": 25,
      "outputs": [
        {
          "output_type": "execute_result",
          "data": {
            "text/plain": [
              "Index(['name', 'height', 'mass', 'hair_color', 'skin_color', 'eye_color',\n",
              "       'birth_year', 'gender', 'homeworld', 'species'],\n",
              "      dtype='object')"
            ]
          },
          "metadata": {},
          "execution_count": 25
        }
      ]
    },
    {
      "cell_type": "code",
      "metadata": {
        "id": "hDe0C5AZjJ6m"
      },
      "source": [
        "def status2(data):\n",
        "  return pd.DataFrame({'variables': data.columns, 'valores_unicos':data.nunique().values})"
      ],
      "execution_count": 26,
      "outputs": []
    },
    {
      "cell_type": "code",
      "metadata": {
        "id": "yPMsycHylW8e",
        "colab": {
          "base_uri": "https://localhost:8080/",
          "height": 363
        },
        "outputId": "5367c00e-5206-4faa-cadb-2450453f20ef"
      },
      "source": [
        "status2(d_star_wars)"
      ],
      "execution_count": 27,
      "outputs": [
        {
          "output_type": "execute_result",
          "data": {
            "text/plain": [
              "    variables  valores_unicos\n",
              "0        name              87\n",
              "1      height              45\n",
              "2        mass              38\n",
              "3  hair_color              11\n",
              "4  skin_color              30\n",
              "5   eye_color              14\n",
              "6  birth_year              36\n",
              "7      gender               4\n",
              "8   homeworld              48\n",
              "9     species              37"
            ],
            "text/html": [
              "\n",
              "  <div id=\"df-9290a0d1-956c-4431-9e97-caff74ea90ab\" class=\"colab-df-container\">\n",
              "    <div>\n",
              "<style scoped>\n",
              "    .dataframe tbody tr th:only-of-type {\n",
              "        vertical-align: middle;\n",
              "    }\n",
              "\n",
              "    .dataframe tbody tr th {\n",
              "        vertical-align: top;\n",
              "    }\n",
              "\n",
              "    .dataframe thead th {\n",
              "        text-align: right;\n",
              "    }\n",
              "</style>\n",
              "<table border=\"1\" class=\"dataframe\">\n",
              "  <thead>\n",
              "    <tr style=\"text-align: right;\">\n",
              "      <th></th>\n",
              "      <th>variables</th>\n",
              "      <th>valores_unicos</th>\n",
              "    </tr>\n",
              "  </thead>\n",
              "  <tbody>\n",
              "    <tr>\n",
              "      <th>0</th>\n",
              "      <td>name</td>\n",
              "      <td>87</td>\n",
              "    </tr>\n",
              "    <tr>\n",
              "      <th>1</th>\n",
              "      <td>height</td>\n",
              "      <td>45</td>\n",
              "    </tr>\n",
              "    <tr>\n",
              "      <th>2</th>\n",
              "      <td>mass</td>\n",
              "      <td>38</td>\n",
              "    </tr>\n",
              "    <tr>\n",
              "      <th>3</th>\n",
              "      <td>hair_color</td>\n",
              "      <td>11</td>\n",
              "    </tr>\n",
              "    <tr>\n",
              "      <th>4</th>\n",
              "      <td>skin_color</td>\n",
              "      <td>30</td>\n",
              "    </tr>\n",
              "    <tr>\n",
              "      <th>5</th>\n",
              "      <td>eye_color</td>\n",
              "      <td>14</td>\n",
              "    </tr>\n",
              "    <tr>\n",
              "      <th>6</th>\n",
              "      <td>birth_year</td>\n",
              "      <td>36</td>\n",
              "    </tr>\n",
              "    <tr>\n",
              "      <th>7</th>\n",
              "      <td>gender</td>\n",
              "      <td>4</td>\n",
              "    </tr>\n",
              "    <tr>\n",
              "      <th>8</th>\n",
              "      <td>homeworld</td>\n",
              "      <td>48</td>\n",
              "    </tr>\n",
              "    <tr>\n",
              "      <th>9</th>\n",
              "      <td>species</td>\n",
              "      <td>37</td>\n",
              "    </tr>\n",
              "  </tbody>\n",
              "</table>\n",
              "</div>\n",
              "    <div class=\"colab-df-buttons\">\n",
              "\n",
              "  <div class=\"colab-df-container\">\n",
              "    <button class=\"colab-df-convert\" onclick=\"convertToInteractive('df-9290a0d1-956c-4431-9e97-caff74ea90ab')\"\n",
              "            title=\"Convert this dataframe to an interactive table.\"\n",
              "            style=\"display:none;\">\n",
              "\n",
              "  <svg xmlns=\"http://www.w3.org/2000/svg\" height=\"24px\" viewBox=\"0 -960 960 960\">\n",
              "    <path d=\"M120-120v-720h720v720H120Zm60-500h600v-160H180v160Zm220 220h160v-160H400v160Zm0 220h160v-160H400v160ZM180-400h160v-160H180v160Zm440 0h160v-160H620v160ZM180-180h160v-160H180v160Zm440 0h160v-160H620v160Z\"/>\n",
              "  </svg>\n",
              "    </button>\n",
              "\n",
              "  <style>\n",
              "    .colab-df-container {\n",
              "      display:flex;\n",
              "      gap: 12px;\n",
              "    }\n",
              "\n",
              "    .colab-df-convert {\n",
              "      background-color: #E8F0FE;\n",
              "      border: none;\n",
              "      border-radius: 50%;\n",
              "      cursor: pointer;\n",
              "      display: none;\n",
              "      fill: #1967D2;\n",
              "      height: 32px;\n",
              "      padding: 0 0 0 0;\n",
              "      width: 32px;\n",
              "    }\n",
              "\n",
              "    .colab-df-convert:hover {\n",
              "      background-color: #E2EBFA;\n",
              "      box-shadow: 0px 1px 2px rgba(60, 64, 67, 0.3), 0px 1px 3px 1px rgba(60, 64, 67, 0.15);\n",
              "      fill: #174EA6;\n",
              "    }\n",
              "\n",
              "    .colab-df-buttons div {\n",
              "      margin-bottom: 4px;\n",
              "    }\n",
              "\n",
              "    [theme=dark] .colab-df-convert {\n",
              "      background-color: #3B4455;\n",
              "      fill: #D2E3FC;\n",
              "    }\n",
              "\n",
              "    [theme=dark] .colab-df-convert:hover {\n",
              "      background-color: #434B5C;\n",
              "      box-shadow: 0px 1px 3px 1px rgba(0, 0, 0, 0.15);\n",
              "      filter: drop-shadow(0px 1px 2px rgba(0, 0, 0, 0.3));\n",
              "      fill: #FFFFFF;\n",
              "    }\n",
              "  </style>\n",
              "\n",
              "    <script>\n",
              "      const buttonEl =\n",
              "        document.querySelector('#df-9290a0d1-956c-4431-9e97-caff74ea90ab button.colab-df-convert');\n",
              "      buttonEl.style.display =\n",
              "        google.colab.kernel.accessAllowed ? 'block' : 'none';\n",
              "\n",
              "      async function convertToInteractive(key) {\n",
              "        const element = document.querySelector('#df-9290a0d1-956c-4431-9e97-caff74ea90ab');\n",
              "        const dataTable =\n",
              "          await google.colab.kernel.invokeFunction('convertToInteractive',\n",
              "                                                    [key], {});\n",
              "        if (!dataTable) return;\n",
              "\n",
              "        const docLinkHtml = 'Like what you see? Visit the ' +\n",
              "          '<a target=\"_blank\" href=https://colab.research.google.com/notebooks/data_table.ipynb>data table notebook</a>'\n",
              "          + ' to learn more about interactive tables.';\n",
              "        element.innerHTML = '';\n",
              "        dataTable['output_type'] = 'display_data';\n",
              "        await google.colab.output.renderOutput(dataTable, element);\n",
              "        const docLink = document.createElement('div');\n",
              "        docLink.innerHTML = docLinkHtml;\n",
              "        element.appendChild(docLink);\n",
              "      }\n",
              "    </script>\n",
              "  </div>\n",
              "\n",
              "\n",
              "<div id=\"df-8beb2f0e-eb56-4bae-9bab-4fb454bbf5fe\">\n",
              "  <button class=\"colab-df-quickchart\" onclick=\"quickchart('df-8beb2f0e-eb56-4bae-9bab-4fb454bbf5fe')\"\n",
              "            title=\"Suggest charts\"\n",
              "            style=\"display:none;\">\n",
              "\n",
              "<svg xmlns=\"http://www.w3.org/2000/svg\" height=\"24px\"viewBox=\"0 0 24 24\"\n",
              "     width=\"24px\">\n",
              "    <g>\n",
              "        <path d=\"M19 3H5c-1.1 0-2 .9-2 2v14c0 1.1.9 2 2 2h14c1.1 0 2-.9 2-2V5c0-1.1-.9-2-2-2zM9 17H7v-7h2v7zm4 0h-2V7h2v10zm4 0h-2v-4h2v4z\"/>\n",
              "    </g>\n",
              "</svg>\n",
              "  </button>\n",
              "\n",
              "<style>\n",
              "  .colab-df-quickchart {\n",
              "      --bg-color: #E8F0FE;\n",
              "      --fill-color: #1967D2;\n",
              "      --hover-bg-color: #E2EBFA;\n",
              "      --hover-fill-color: #174EA6;\n",
              "      --disabled-fill-color: #AAA;\n",
              "      --disabled-bg-color: #DDD;\n",
              "  }\n",
              "\n",
              "  [theme=dark] .colab-df-quickchart {\n",
              "      --bg-color: #3B4455;\n",
              "      --fill-color: #D2E3FC;\n",
              "      --hover-bg-color: #434B5C;\n",
              "      --hover-fill-color: #FFFFFF;\n",
              "      --disabled-bg-color: #3B4455;\n",
              "      --disabled-fill-color: #666;\n",
              "  }\n",
              "\n",
              "  .colab-df-quickchart {\n",
              "    background-color: var(--bg-color);\n",
              "    border: none;\n",
              "    border-radius: 50%;\n",
              "    cursor: pointer;\n",
              "    display: none;\n",
              "    fill: var(--fill-color);\n",
              "    height: 32px;\n",
              "    padding: 0;\n",
              "    width: 32px;\n",
              "  }\n",
              "\n",
              "  .colab-df-quickchart:hover {\n",
              "    background-color: var(--hover-bg-color);\n",
              "    box-shadow: 0 1px 2px rgba(60, 64, 67, 0.3), 0 1px 3px 1px rgba(60, 64, 67, 0.15);\n",
              "    fill: var(--button-hover-fill-color);\n",
              "  }\n",
              "\n",
              "  .colab-df-quickchart-complete:disabled,\n",
              "  .colab-df-quickchart-complete:disabled:hover {\n",
              "    background-color: var(--disabled-bg-color);\n",
              "    fill: var(--disabled-fill-color);\n",
              "    box-shadow: none;\n",
              "  }\n",
              "\n",
              "  .colab-df-spinner {\n",
              "    border: 2px solid var(--fill-color);\n",
              "    border-color: transparent;\n",
              "    border-bottom-color: var(--fill-color);\n",
              "    animation:\n",
              "      spin 1s steps(1) infinite;\n",
              "  }\n",
              "\n",
              "  @keyframes spin {\n",
              "    0% {\n",
              "      border-color: transparent;\n",
              "      border-bottom-color: var(--fill-color);\n",
              "      border-left-color: var(--fill-color);\n",
              "    }\n",
              "    20% {\n",
              "      border-color: transparent;\n",
              "      border-left-color: var(--fill-color);\n",
              "      border-top-color: var(--fill-color);\n",
              "    }\n",
              "    30% {\n",
              "      border-color: transparent;\n",
              "      border-left-color: var(--fill-color);\n",
              "      border-top-color: var(--fill-color);\n",
              "      border-right-color: var(--fill-color);\n",
              "    }\n",
              "    40% {\n",
              "      border-color: transparent;\n",
              "      border-right-color: var(--fill-color);\n",
              "      border-top-color: var(--fill-color);\n",
              "    }\n",
              "    60% {\n",
              "      border-color: transparent;\n",
              "      border-right-color: var(--fill-color);\n",
              "    }\n",
              "    80% {\n",
              "      border-color: transparent;\n",
              "      border-right-color: var(--fill-color);\n",
              "      border-bottom-color: var(--fill-color);\n",
              "    }\n",
              "    90% {\n",
              "      border-color: transparent;\n",
              "      border-bottom-color: var(--fill-color);\n",
              "    }\n",
              "  }\n",
              "</style>\n",
              "\n",
              "  <script>\n",
              "    async function quickchart(key) {\n",
              "      const quickchartButtonEl =\n",
              "        document.querySelector('#' + key + ' button');\n",
              "      quickchartButtonEl.disabled = true;  // To prevent multiple clicks.\n",
              "      quickchartButtonEl.classList.add('colab-df-spinner');\n",
              "      try {\n",
              "        const charts = await google.colab.kernel.invokeFunction(\n",
              "            'suggestCharts', [key], {});\n",
              "      } catch (error) {\n",
              "        console.error('Error during call to suggestCharts:', error);\n",
              "      }\n",
              "      quickchartButtonEl.classList.remove('colab-df-spinner');\n",
              "      quickchartButtonEl.classList.add('colab-df-quickchart-complete');\n",
              "    }\n",
              "    (() => {\n",
              "      let quickchartButtonEl =\n",
              "        document.querySelector('#df-8beb2f0e-eb56-4bae-9bab-4fb454bbf5fe button');\n",
              "      quickchartButtonEl.style.display =\n",
              "        google.colab.kernel.accessAllowed ? 'block' : 'none';\n",
              "    })();\n",
              "  </script>\n",
              "</div>\n",
              "\n",
              "    </div>\n",
              "  </div>\n"
            ],
            "application/vnd.google.colaboratory.intrinsic+json": {
              "type": "dataframe",
              "summary": "{\n  \"name\": \"status2(d_star_wars)\",\n  \"rows\": 10,\n  \"fields\": [\n    {\n      \"column\": \"variables\",\n      \"properties\": {\n        \"dtype\": \"string\",\n        \"num_unique_values\": 10,\n        \"samples\": [\n          \"homeworld\",\n          \"height\",\n          \"eye_color\"\n        ],\n        \"semantic_type\": \"\",\n        \"description\": \"\"\n      }\n    },\n    {\n      \"column\": \"valores_unicos\",\n      \"properties\": {\n        \"dtype\": \"number\",\n        \"std\": 23,\n        \"min\": 4,\n        \"max\": 87,\n        \"num_unique_values\": 10,\n        \"samples\": [\n          48,\n          45,\n          14\n        ],\n        \"semantic_type\": \"\",\n        \"description\": \"\"\n      }\n    }\n  ]\n}"
            }
          },
          "metadata": {},
          "execution_count": 27
        }
      ]
    },
    {
      "cell_type": "markdown",
      "metadata": {
        "id": "q2dvWHTtmej0"
      },
      "source": [
        "<br>\n",
        "\n",
        "---\n",
        "\n",
        "\n",
        "\n",
        "# C.2.1) ¿Qué es `numpy`?"
      ]
    },
    {
      "cell_type": "code",
      "metadata": {
        "id": "uEnElyY8mhle"
      },
      "source": [
        "import numpy as np"
      ],
      "execution_count": 28,
      "outputs": []
    },
    {
      "cell_type": "code",
      "metadata": {
        "id": "jV94rfWIs-20"
      },
      "source": [
        "arr1 = np.array([1,2,3,4,5])"
      ],
      "execution_count": 29,
      "outputs": []
    },
    {
      "cell_type": "code",
      "metadata": {
        "id": "wuR34pMrtXh0",
        "colab": {
          "base_uri": "https://localhost:8080/"
        },
        "outputId": "23ee459e-f3f4-40dc-a653-245678d91884"
      },
      "source": [
        "arr1"
      ],
      "execution_count": 30,
      "outputs": [
        {
          "output_type": "execute_result",
          "data": {
            "text/plain": [
              "array([1, 2, 3, 4, 5])"
            ]
          },
          "metadata": {},
          "execution_count": 30
        }
      ]
    },
    {
      "cell_type": "code",
      "metadata": {
        "id": "itbIWebQtYIu",
        "colab": {
          "base_uri": "https://localhost:8080/"
        },
        "outputId": "00393c53-ba92-4feb-f884-e4c9b384b362"
      },
      "source": [
        "arr1+arr1"
      ],
      "execution_count": 31,
      "outputs": [
        {
          "output_type": "execute_result",
          "data": {
            "text/plain": [
              "array([ 2,  4,  6,  8, 10])"
            ]
          },
          "metadata": {},
          "execution_count": 31
        }
      ]
    },
    {
      "cell_type": "code",
      "metadata": {
        "id": "o9SR0siKwHw5",
        "colab": {
          "base_uri": "https://localhost:8080/"
        },
        "outputId": "ead5ec48-5d6a-4c6e-9a1d-fc16dbf47e70"
      },
      "source": [
        "arr1.shape # ranking 1"
      ],
      "execution_count": 32,
      "outputs": [
        {
          "output_type": "execute_result",
          "data": {
            "text/plain": [
              "(5,)"
            ]
          },
          "metadata": {},
          "execution_count": 32
        }
      ]
    },
    {
      "cell_type": "markdown",
      "metadata": {
        "id": "9yxksq9yvEuG"
      },
      "source": [
        "¿Cómo crear un \"tabla\" en numpy?\n",
        "\n",
        "Rank 2 array / 2D"
      ]
    },
    {
      "cell_type": "code",
      "metadata": {
        "id": "Vl1K6UipuLL5",
        "colab": {
          "base_uri": "https://localhost:8080/"
        },
        "outputId": "c24cfe46-0854-46ec-eff3-df369c5614f3"
      },
      "source": [
        "arr2=np.array([[1,2,3,4,5], [9,8,7,6,5]])\n",
        "\n",
        "arr2"
      ],
      "execution_count": 33,
      "outputs": [
        {
          "output_type": "execute_result",
          "data": {
            "text/plain": [
              "array([[1, 2, 3, 4, 5],\n",
              "       [9, 8, 7, 6, 5]])"
            ]
          },
          "metadata": {},
          "execution_count": 33
        }
      ]
    },
    {
      "cell_type": "code",
      "metadata": {
        "id": "QGDfksX8uyoW",
        "colab": {
          "base_uri": "https://localhost:8080/"
        },
        "outputId": "16e2f3bd-c69e-4863-aa54-36b916c6712d"
      },
      "source": [
        "arr2.shape"
      ],
      "execution_count": 34,
      "outputs": [
        {
          "output_type": "execute_result",
          "data": {
            "text/plain": [
              "(2, 5)"
            ]
          },
          "metadata": {},
          "execution_count": 34
        }
      ]
    },
    {
      "cell_type": "markdown",
      "metadata": {
        "id": "Fup8L7rfxMtT"
      },
      "source": [
        "Rank 3 array / 3D"
      ]
    },
    {
      "cell_type": "code",
      "metadata": {
        "id": "bqFsF670vK0n"
      },
      "source": [
        "arr3=np.array([[[1,2,3,4,5], [9,8,7,6,5]]])"
      ],
      "execution_count": 35,
      "outputs": []
    },
    {
      "cell_type": "code",
      "metadata": {
        "id": "o7_ZpY1xw9mw",
        "colab": {
          "base_uri": "https://localhost:8080/"
        },
        "outputId": "2614a9fa-089d-4f29-afda-02fd6d526234"
      },
      "source": [
        "arr3.shape"
      ],
      "execution_count": 36,
      "outputs": [
        {
          "output_type": "execute_result",
          "data": {
            "text/plain": [
              "(1, 2, 5)"
            ]
          },
          "metadata": {},
          "execution_count": 36
        }
      ]
    },
    {
      "cell_type": "markdown",
      "metadata": {
        "id": "dApZmci1-txe"
      },
      "source": [
        "### C.2.2) ¿Cómo hacer `reshape` en numpy?"
      ]
    },
    {
      "cell_type": "code",
      "metadata": {
        "id": "kvraE8qU-t94",
        "colab": {
          "base_uri": "https://localhost:8080/"
        },
        "outputId": "83c4a5e1-056b-45f3-9ac7-c86708ca2825"
      },
      "source": [
        "arr3=np.array([1,2,3,4,5,6])\n",
        "print(arr3)\n",
        "print(arr3.shape)"
      ],
      "execution_count": 37,
      "outputs": [
        {
          "output_type": "stream",
          "name": "stdout",
          "text": [
            "[1 2 3 4 5 6]\n",
            "(6,)\n"
          ]
        }
      ]
    },
    {
      "cell_type": "code",
      "metadata": {
        "id": "gsainvYu_N54",
        "colab": {
          "base_uri": "https://localhost:8080/"
        },
        "outputId": "7938c9b9-66cd-4c97-a5f2-8915db6a87b0"
      },
      "source": [
        "arr4=arr3.reshape((2,3))\n",
        "\n",
        "arr4"
      ],
      "execution_count": 38,
      "outputs": [
        {
          "output_type": "execute_result",
          "data": {
            "text/plain": [
              "array([[1, 2, 3],\n",
              "       [4, 5, 6]])"
            ]
          },
          "metadata": {},
          "execution_count": 38
        }
      ]
    },
    {
      "cell_type": "code",
      "metadata": {
        "id": "RnBoAXGL_UBE",
        "colab": {
          "base_uri": "https://localhost:8080/"
        },
        "outputId": "b20278c5-65fe-49fe-bf99-cc63f2c947ce"
      },
      "source": [
        "arr4.shape"
      ],
      "execution_count": 39,
      "outputs": [
        {
          "output_type": "execute_result",
          "data": {
            "text/plain": [
              "(2, 3)"
            ]
          },
          "metadata": {},
          "execution_count": 39
        }
      ]
    },
    {
      "cell_type": "markdown",
      "metadata": {
        "id": "hM0ESIjuA10y"
      },
      "source": [
        "¿Cómo hacer flatten de un numpy array?"
      ]
    },
    {
      "cell_type": "code",
      "metadata": {
        "id": "i8UDMH0hAtqz",
        "colab": {
          "base_uri": "https://localhost:8080/"
        },
        "outputId": "62da4bf9-d3e8-4ffc-80af-304678cb8c95"
      },
      "source": [
        "arr5=arr4.flatten()\n",
        "arr5"
      ],
      "execution_count": 40,
      "outputs": [
        {
          "output_type": "execute_result",
          "data": {
            "text/plain": [
              "array([1, 2, 3, 4, 5, 6])"
            ]
          },
          "metadata": {},
          "execution_count": 40
        }
      ]
    },
    {
      "cell_type": "markdown",
      "metadata": {
        "id": "Eelr5hzPCQU0"
      },
      "source": [
        "### C.2.3) ¿Cómo hacer slice de numpy?"
      ]
    },
    {
      "cell_type": "code",
      "metadata": {
        "id": "-thB6iq0CpDo",
        "colab": {
          "base_uri": "https://localhost:8080/"
        },
        "outputId": "b0e93512-9429-43bc-c957-1040ce0c226d"
      },
      "source": [
        "arr1"
      ],
      "execution_count": 41,
      "outputs": [
        {
          "output_type": "execute_result",
          "data": {
            "text/plain": [
              "array([1, 2, 3, 4, 5])"
            ]
          },
          "metadata": {},
          "execution_count": 41
        }
      ]
    },
    {
      "cell_type": "code",
      "metadata": {
        "id": "ee7oWKopCZJA",
        "colab": {
          "base_uri": "https://localhost:8080/"
        },
        "outputId": "e423070c-b20f-43be-a462-4d18e991e865"
      },
      "source": [
        "# 1er elemento\n",
        "arr1[0]"
      ],
      "execution_count": 42,
      "outputs": [
        {
          "output_type": "execute_result",
          "data": {
            "text/plain": [
              "np.int64(1)"
            ]
          },
          "metadata": {},
          "execution_count": 42
        }
      ]
    },
    {
      "cell_type": "code",
      "metadata": {
        "id": "EDpmpja7CrWn",
        "colab": {
          "base_uri": "https://localhost:8080/"
        },
        "outputId": "e2579296-3176-46e6-d7b5-820e28a4bbd3"
      },
      "source": [
        "arr1[0:3]"
      ],
      "execution_count": 43,
      "outputs": [
        {
          "output_type": "execute_result",
          "data": {
            "text/plain": [
              "array([1, 2, 3])"
            ]
          },
          "metadata": {},
          "execution_count": 43
        }
      ]
    },
    {
      "cell_type": "markdown",
      "metadata": {
        "id": "0J2X5c-sDHkz"
      },
      "source": [
        "### C.2.4) ¿Cómo acceder a arrays n-dimensionales?"
      ]
    },
    {
      "cell_type": "code",
      "metadata": {
        "id": "YygaoyS-C49s",
        "colab": {
          "base_uri": "https://localhost:8080/"
        },
        "outputId": "830beb2a-afd4-437b-dde9-d799a3de9b18"
      },
      "source": [
        "arr4"
      ],
      "execution_count": 44,
      "outputs": [
        {
          "output_type": "execute_result",
          "data": {
            "text/plain": [
              "array([[1, 2, 3],\n",
              "       [4, 5, 6]])"
            ]
          },
          "metadata": {},
          "execution_count": 44
        }
      ]
    },
    {
      "cell_type": "code",
      "metadata": {
        "id": "I_PlzGPWCFvn",
        "colab": {
          "base_uri": "https://localhost:8080/"
        },
        "outputId": "322239f0-1542-4675-d5cd-66f0cd702c6e"
      },
      "source": [
        "arr4[0,:]"
      ],
      "execution_count": 45,
      "outputs": [
        {
          "output_type": "execute_result",
          "data": {
            "text/plain": [
              "array([1, 2, 3])"
            ]
          },
          "metadata": {},
          "execution_count": 45
        }
      ]
    },
    {
      "cell_type": "code",
      "metadata": {
        "id": "45tMun8LCW61",
        "colab": {
          "base_uri": "https://localhost:8080/"
        },
        "outputId": "39145806-85ce-4513-f7e2-e87748b9ed15"
      },
      "source": [
        "arr4[1,0]"
      ],
      "execution_count": 46,
      "outputs": [
        {
          "output_type": "execute_result",
          "data": {
            "text/plain": [
              "np.int64(4)"
            ]
          },
          "metadata": {},
          "execution_count": 46
        }
      ]
    },
    {
      "cell_type": "code",
      "metadata": {
        "id": "mrLmYIs1C8tV",
        "colab": {
          "base_uri": "https://localhost:8080/"
        },
        "outputId": "a36a964a-a333-45b2-a368-ac564c7635bb"
      },
      "source": [
        "arr4[1,0:2]"
      ],
      "execution_count": 47,
      "outputs": [
        {
          "output_type": "execute_result",
          "data": {
            "text/plain": [
              "array([4, 5])"
            ]
          },
          "metadata": {},
          "execution_count": 47
        }
      ]
    },
    {
      "cell_type": "code",
      "metadata": {
        "id": "iPVrpeENDRiZ",
        "colab": {
          "base_uri": "https://localhost:8080/"
        },
        "outputId": "5f71182c-d8fd-4261-ca07-6ae46db9b0fd"
      },
      "source": [
        "# acceder a toda la 1er dimensión\n",
        "arr4[0]"
      ],
      "execution_count": 48,
      "outputs": [
        {
          "output_type": "execute_result",
          "data": {
            "text/plain": [
              "array([1, 2, 3])"
            ]
          },
          "metadata": {},
          "execution_count": 48
        }
      ]
    },
    {
      "cell_type": "markdown",
      "metadata": {
        "id": "ZOkr3C5iI3Lg"
      },
      "source": [
        "Imagen resumen numpy\n",
        "\n",
        "<img src=\"https://fgnt.github.io/python_crashkurs_doc/_images/numpy_array_t.png\" width=\"300px\">\n",
        "\n",
        "[Fuente](https://fgnt.github.io/python_crashkurs_doc/include/numpy.html)."
      ]
    },
    {
      "cell_type": "markdown",
      "source": [
        "#Ejercicios"
      ],
      "metadata": {
        "id": "WAV6NDSM0mK3"
      }
    },
    {
      "cell_type": "markdown",
      "source": [
        "Ejercicio 1: Crear un if anidado para verificar si el numero de cliente está entre 0 y 4, le decimos 'usuario autorizado' en cualquier otro caso indicar 'usuario no autorizado'."
      ],
      "metadata": {
        "id": "H499SypW0sg3"
      }
    },
    {
      "cell_type": "code",
      "source": [
        "#Ejercicio 1\n",
        "if nro_de_cliente<4:\n",
        "  print('usuario autorizado')\n",
        "elif nro_de_cliente>0:\n",
        "  print('usuario autorizado')\n",
        "else:\n",
        "  print('cliente no encontrado :(')\n"
      ],
      "metadata": {
        "id": "AQ167X7S0v_s",
        "colab": {
          "base_uri": "https://localhost:8080/"
        },
        "outputId": "e3e6cd98-b415-45fc-e77a-20cf0dea2947"
      },
      "execution_count": 51,
      "outputs": [
        {
          "output_type": "stream",
          "name": "stdout",
          "text": [
            "usuario autorizado\n"
          ]
        }
      ]
    },
    {
      "cell_type": "markdown",
      "source": [
        "Ejercicio 2: Mediante while solicitar al usuario que ingrese un número entre 1 y 5. Si el número ingresado es 3 que imprima 'Usted ha ganado la loteria'"
      ],
      "metadata": {
        "id": "wewZmHDu2qRD"
      }
    },
    {
      "cell_type": "code",
      "source": [
        "#Ejercicio 2\n",
        "\n",
        "while (1):\n",
        "  x1=int(input('Ingrese un numero entre 1 y 5'))\n",
        "\n",
        "  if x1==3:\n",
        "    print('Usted ha ganado la loteria')\n",
        "    break\n",
        "  else:\n",
        "    print('Intente de nuevo')"
      ],
      "metadata": {
        "id": "5hWJkokk3Diu",
        "colab": {
          "base_uri": "https://localhost:8080/"
        },
        "outputId": "0ef522cc-db37-43c9-d661-4f8cfd6d9287"
      },
      "execution_count": 76,
      "outputs": [
        {
          "output_type": "stream",
          "name": "stdout",
          "text": [
            "Ingrese un numero entre 1 y 52\n",
            "Intente de nuevo\n",
            "Ingrese un numero entre 1 y 56\n",
            "Intente de nuevo\n",
            "Ingrese un numero entre 1 y 53\n",
            "Usted ha ganado la loteria\n"
          ]
        }
      ]
    },
    {
      "cell_type": "markdown",
      "source": [
        "Ejercicio 3: Crear una lista que contenga los valores desde 0 a 10. Luego solicitar que se ingrese un número entre 0 y 10. Imprimir en pantalla los valores de la lista hasta el número que ingresaron"
      ],
      "metadata": {
        "id": "cUg-IloF4X6y"
      }
    },
    {
      "cell_type": "code",
      "source": [
        "#Ejercicio 3\n",
        "\n",
        "lista = [0,1,2,3,4,5,6,7,8,9,10]\n",
        "\n",
        "while(lista):\n",
        "  x1=int(input('Ingrese un numero entre 1 y 10'))\n",
        "  print(lista[:x1])\n",
        "  break\n",
        "\n"
      ],
      "metadata": {
        "id": "RJIQThlu4Xb3",
        "colab": {
          "base_uri": "https://localhost:8080/"
        },
        "outputId": "864e7a39-2b12-4547-b232-137b61b3e31a"
      },
      "execution_count": 82,
      "outputs": [
        {
          "output_type": "stream",
          "name": "stdout",
          "text": [
            "Ingrese un numero entre 1 y 103\n",
            "[0, 1, 2]\n"
          ]
        }
      ]
    },
    {
      "cell_type": "markdown",
      "source": [
        "Ejercicio 4: Solicitar que se ingresen dos valores, mediante una función sumar estos dos numero y mostrar el resutaldo en pantalla"
      ],
      "metadata": {
        "id": "rM8ByOxC6L_L"
      }
    },
    {
      "cell_type": "code",
      "source": [
        "#Ejercicio 4\n",
        "#Función\n",
        "\n",
        "while(1):\n",
        "  x1=int(input('Ingrese un numero'))\n",
        "  x2=int(input('Ingrese un numero'))\n",
        "  print(x1+x2)\n",
        "  break"
      ],
      "metadata": {
        "id": "TTZjeMkR6zN8",
        "colab": {
          "base_uri": "https://localhost:8080/"
        },
        "outputId": "05578c0b-c355-4df6-8cff-7a3c8e5f7abf"
      },
      "execution_count": 83,
      "outputs": [
        {
          "output_type": "stream",
          "name": "stdout",
          "text": [
            "Ingrese un numero1\n",
            "Ingrese un numero2\n",
            "3\n"
          ]
        }
      ]
    },
    {
      "cell_type": "markdown",
      "source": [
        "Ejercicio 5: Solicitar que se ingresen dos valores, luego solicitar que tipo de operación se quiere realizar (suma, resta, multiplicación o división). Luego mediante una función realizar la operación matematica e imprimir el resultado."
      ],
      "metadata": {
        "id": "WpNMP3M58Itp"
      }
    },
    {
      "cell_type": "code",
      "source": [
        "#Ejercicio 5\n",
        "#Función\n",
        "while(1):\n",
        "  x1=int(input('Ingrese un numero'))\n",
        "  x2=int(input('Ingrese un numero'))\n",
        "  x3=input('Ingrese la operacion que desea realizar')\n",
        "  if x3 == 'suma':\n",
        "    print(x1+x2)\n",
        "    break\n",
        "  elif x3=='resta':\n",
        "    print(x1-x2)\n",
        "    break\n",
        "  elif x3=='multiplicacion':\n",
        "    print(x1*x2)\n",
        "    break\n",
        "  elif x3=='division':\n",
        "    print(x1/x2)\n",
        "    break\n",
        "  else:\n",
        "    print ('operacion no valida')\n",
        "    break\n"
      ],
      "metadata": {
        "id": "K6-5pjuX8jua",
        "colab": {
          "base_uri": "https://localhost:8080/"
        },
        "outputId": "c361fe36-c11d-4456-c907-a5fc1d02d7f3"
      },
      "execution_count": 84,
      "outputs": [
        {
          "output_type": "stream",
          "name": "stdout",
          "text": [
            "Ingrese un numero10\n",
            "Ingrese un numero2\n",
            "Ingrese la operacion que desea realizardivision\n",
            "5.0\n"
          ]
        }
      ]
    }
  ]
}